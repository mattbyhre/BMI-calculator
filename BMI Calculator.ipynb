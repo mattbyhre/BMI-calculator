{
 "cells": [
  {
   "cell_type": "code",
   "execution_count": null,
   "id": "531df01e",
   "metadata": {},
   "outputs": [],
   "source": [
    "#BMI = (weight in pounds x 703) / (height in inches x height in inches)"
   ]
  },
  {
   "cell_type": "code",
   "execution_count": null,
   "id": "2e85d1c7",
   "metadata": {},
   "outputs": [],
   "source": [
    "name = input(\"Enter your name: \")\n",
    "\n",
    "weight = int(input(\"Enter your weight in pounds: \"))\n",
    "\n",
    "height = int(input(\"Enter your height in inches: \"))\n",
    "\n",
    "BMI = (weight * 703) / (height * height)\n",
    "\n",
    "print(BMI)\n",
    "\n",
    "if BMI > 0:\n",
    "    if BMI < 18.5:\n",
    "        print(name + \", you are underweight.\")\n",
    "    elif BMI >= 18.5 and BMI <= 24.9:\n",
    "        print(name + \", you are a healthy weight.\")\n",
    "    elif BMI >= 25.0 and BMI <= 29.9:\n",
    "        print(name + \", you are overweight.\")\n",
    "    else:\n",
    "        print(name + \", you are in the obesity range.\")\n",
    "else:\n",
    "    print(\"Enter vaild input\")"
   ]
  },
  {
   "cell_type": "code",
   "execution_count": null,
   "id": "9f3d5e27",
   "metadata": {},
   "outputs": [],
   "source": []
  }
 ],
 "metadata": {
  "kernelspec": {
   "display_name": "base",
   "language": "python",
   "name": "python3"
  },
  "language_info": {
   "codemirror_mode": {
    "name": "ipython",
    "version": 3
   },
   "file_extension": ".py",
   "mimetype": "text/x-python",
   "name": "python",
   "nbconvert_exporter": "python",
   "pygments_lexer": "ipython3",
   "version": "3.11.5 (main, Sep 11 2023, 08:19:27) [Clang 14.0.6 ]"
  },
  "vscode": {
   "interpreter": {
    "hash": "4d5996321de70475265b79cf198e2a3d75871f87e14fcac4ecae191cb462d6a3"
   }
  }
 },
 "nbformat": 4,
 "nbformat_minor": 5
}
